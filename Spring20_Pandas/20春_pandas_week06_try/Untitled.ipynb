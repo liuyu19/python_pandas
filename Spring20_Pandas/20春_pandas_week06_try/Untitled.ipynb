{
 "cells": [
  {
   "cell_type": "markdown",
   "metadata": {},
   "source": [
    "# Python数据分析(week6)"
   ]
  },
  {
   "cell_type": "markdown",
   "metadata": {},
   "source": [
    "复习数据的读取，分进合集等知识点。把坑填一下。"
   ]
  },
  {
   "cell_type": "markdown",
   "metadata": {},
   "source": [
    "## 读取数据"
   ]
  },
  {
   "cell_type": "markdown",
   "metadata": {},
   "source": [
    "example:\n",
    ".read_tsv "
   ]
  },
  {
   "cell_type": "code",
   "execution_count": 2,
   "metadata": {},
   "outputs": [],
   "source": [
    "import pandas as pd"
   ]
  },
  {
   "cell_type": "markdown",
   "metadata": {},
   "source": [
    "## 框框框"
   ]
  },
  {
   "cell_type": "markdown",
   "metadata": {},
   "source": [
    "**数据框本身是多个变数构成的观察序列**  \n",
    "* pd.DataFrame 的主流参数是字典\n",
    "* 该字典的键keys是由变数构成，相当於表格中一行行的标题\n",
    "* 该字典的值values是由观察的列表构成，相当於表格中一行行的数据\n",
    "* 表格真的要是表格, 该字典的每个观察的列表数量必需齐一\n",
    "\n",
    "[小贴士] 最后一个逗点可有可无(为什麽?)，在pandas情境下最好留(为什麽?)  \n",
    "方便观察，避免出错。"
   ]
  },
  {
   "cell_type": "code",
   "execution_count": 3,
   "metadata": {},
   "outputs": [
    {
     "data": {
      "text/html": [
       "<div>\n",
       "<style scoped>\n",
       "    .dataframe tbody tr th:only-of-type {\n",
       "        vertical-align: middle;\n",
       "    }\n",
       "\n",
       "    .dataframe tbody tr th {\n",
       "        vertical-align: top;\n",
       "    }\n",
       "\n",
       "    .dataframe thead th {\n",
       "        text-align: right;\n",
       "    }\n",
       "</style>\n",
       "<table border=\"1\" class=\"dataframe\">\n",
       "  <thead>\n",
       "    <tr style=\"text-align: right;\">\n",
       "      <th></th>\n",
       "      <th>变数X</th>\n",
       "      <th>变数Y</th>\n",
       "      <th>变数Z</th>\n",
       "      <th>变数O</th>\n",
       "    </tr>\n",
       "  </thead>\n",
       "  <tbody>\n",
       "    <tr>\n",
       "      <th>0</th>\n",
       "      <td>观察X1</td>\n",
       "      <td>观察Y1</td>\n",
       "      <td>观察Z1</td>\n",
       "      <td>观察O1</td>\n",
       "    </tr>\n",
       "    <tr>\n",
       "      <th>1</th>\n",
       "      <td>观察X2</td>\n",
       "      <td>观察Y2</td>\n",
       "      <td>观察Z2</td>\n",
       "      <td>观察O2</td>\n",
       "    </tr>\n",
       "    <tr>\n",
       "      <th>2</th>\n",
       "      <td>观察X3</td>\n",
       "      <td>观察Y3</td>\n",
       "      <td>观察Z3</td>\n",
       "      <td>观察O3</td>\n",
       "    </tr>\n",
       "    <tr>\n",
       "      <th>3</th>\n",
       "      <td>观察X4</td>\n",
       "      <td>观察Y4</td>\n",
       "      <td>观察Z4</td>\n",
       "      <td>观察O4</td>\n",
       "    </tr>\n",
       "  </tbody>\n",
       "</table>\n",
       "</div>"
      ],
      "text/plain": [
       "    变数X   变数Y   变数Z   变数O\n",
       "0  观察X1  观察Y1  观察Z1  观察O1\n",
       "1  观察X2  观察Y2  观察Z2  观察O2\n",
       "2  观察X3  观察Y3  观察Z3  观察O3\n",
       "3  观察X4  观察Y4  观察Z4  观察O4"
      ]
     },
     "execution_count": 3,
     "metadata": {},
     "output_type": "execute_result"
    }
   ],
   "source": [
    "# 尝试\n",
    "框框 = pd.DataFrame ( {\n",
    "        \"变数X\": [\"观察X1\", \"观察X2\", \"观察X3\", \"观察X4\"],\n",
    "        \"变数Y\": [\"观察Y1\", \"观察Y2\", \"观察Y3\", \"观察Y4\"],\n",
    "        \"变数Z\": [\"观察Z1\", \"观察Z2\", \"观察Z3\", \"观察Z4\"],\n",
    "        \"变数O\": [\"观察O1\", \"观察O2\", \"观察O3\", \"观察O4\"],\n",
    "      } )\n",
    "框框\n",
    "# 数据框的建构就是里面的多个变数，外面括号括起来的字典。"
   ]
  },
  {
   "cell_type": "code",
   "execution_count": 20,
   "metadata": {},
   "outputs": [
    {
     "data": {
      "text/html": [
       "<div>\n",
       "<style scoped>\n",
       "    .dataframe tbody tr th:only-of-type {\n",
       "        vertical-align: middle;\n",
       "    }\n",
       "\n",
       "    .dataframe tbody tr th {\n",
       "        vertical-align: top;\n",
       "    }\n",
       "\n",
       "    .dataframe thead th {\n",
       "        text-align: right;\n",
       "    }\n",
       "</style>\n",
       "<table border=\"1\" class=\"dataframe\">\n",
       "  <thead>\n",
       "    <tr style=\"text-align: right;\">\n",
       "      <th></th>\n",
       "      <th>变数X</th>\n",
       "      <th>变数Y</th>\n",
       "      <th>变数Z</th>\n",
       "      <th>变数O</th>\n",
       "    </tr>\n",
       "  </thead>\n",
       "  <tbody>\n",
       "    <tr>\n",
       "      <th>0</th>\n",
       "      <td>观察X1</td>\n",
       "      <td>观察Y1</td>\n",
       "      <td>观察Z1</td>\n",
       "      <td>观察O1</td>\n",
       "    </tr>\n",
       "    <tr>\n",
       "      <th>1</th>\n",
       "      <td>观察X2</td>\n",
       "      <td>观察Y2</td>\n",
       "      <td>观察Z2</td>\n",
       "      <td>观察O2</td>\n",
       "    </tr>\n",
       "    <tr>\n",
       "      <th>2</th>\n",
       "      <td>观察X3</td>\n",
       "      <td>观察Y3</td>\n",
       "      <td>观察Z3</td>\n",
       "      <td>观察O3</td>\n",
       "    </tr>\n",
       "    <tr>\n",
       "      <th>3</th>\n",
       "      <td>观察X4</td>\n",
       "      <td>观察Y4</td>\n",
       "      <td>观察Z4</td>\n",
       "      <td>观察O4</td>\n",
       "    </tr>\n",
       "  </tbody>\n",
       "</table>\n",
       "</div>"
      ],
      "text/plain": [
       "    变数X   变数Y   变数Z   变数O\n",
       "0  观察X1  观察Y1  观察Z1  观察O1\n",
       "1  观察X2  观察Y2  观察Z2  观察O2\n",
       "2  观察X3  观察Y3  观察Z3  观察O3\n",
       "3  观察X4  观察Y4  观察Z4  观察O4"
      ]
     },
     "execution_count": 20,
     "metadata": {},
     "output_type": "execute_result"
    }
   ],
   "source": [
    "# 先弄字典, 再弄 框框 的写法片语\n",
    "# 数据要等长，不然没法形成字典\n",
    "字典 = {\n",
    "        \"变数X\": [\"观察X1\", \"观察X2\", \"观察X3\", \"观察X4\"],\n",
    "        \"变数Y\": [\"观察Y1\", \"观察Y2\", \"观察Y3\", \"观察Y4\"],\n",
    "        \"变数Z\": [\"观察Z1\", \"观察Z2\", \"观察Z3\", \"观察Z4\"],\n",
    "        \"变数O\": [\"观察O1\", \"观察O2\", \"观察O3\", \"观察O4\"],\n",
    "       }\n",
    "\n",
    "框框 = pd.DataFrame ( 字典 )\n",
    "框框"
   ]
  },
  {
   "cell_type": "code",
   "execution_count": 21,
   "metadata": {},
   "outputs": [
    {
     "data": {
      "text/html": [
       "<div>\n",
       "<style scoped>\n",
       "    .dataframe tbody tr th:only-of-type {\n",
       "        vertical-align: middle;\n",
       "    }\n",
       "\n",
       "    .dataframe tbody tr th {\n",
       "        vertical-align: top;\n",
       "    }\n",
       "\n",
       "    .dataframe thead th {\n",
       "        text-align: right;\n",
       "    }\n",
       "</style>\n",
       "<table border=\"1\" class=\"dataframe\">\n",
       "  <thead>\n",
       "    <tr style=\"text-align: right;\">\n",
       "      <th></th>\n",
       "      <th>变数X</th>\n",
       "      <th>变数Y</th>\n",
       "      <th>变数Z</th>\n",
       "      <th>变数O</th>\n",
       "    </tr>\n",
       "  </thead>\n",
       "  <tbody>\n",
       "    <tr>\n",
       "      <th>0</th>\n",
       "      <td>观察X1</td>\n",
       "      <td>观察Y1</td>\n",
       "      <td>观察Z1</td>\n",
       "      <td>观察O1</td>\n",
       "    </tr>\n",
       "    <tr>\n",
       "      <th>1</th>\n",
       "      <td>观察X2</td>\n",
       "      <td>观察Y2</td>\n",
       "      <td>观察Z2</td>\n",
       "      <td>观察O2</td>\n",
       "    </tr>\n",
       "    <tr>\n",
       "      <th>2</th>\n",
       "      <td>观察X3</td>\n",
       "      <td>观察Y3</td>\n",
       "      <td>观察Z3</td>\n",
       "      <td>观察O3</td>\n",
       "    </tr>\n",
       "    <tr>\n",
       "      <th>3</th>\n",
       "      <td>观察X4</td>\n",
       "      <td>观察Y4</td>\n",
       "      <td>观察Z4</td>\n",
       "      <td>观察O4</td>\n",
       "    </tr>\n",
       "  </tbody>\n",
       "</table>\n",
       "</div>"
      ],
      "text/plain": [
       "    变数X   变数Y   变数Z   变数O\n",
       "0  观察X1  观察Y1  观察Z1  观察O1\n",
       "1  观察X2  观察Y2  观察Z2  观察O2\n",
       "2  观察X3  观察Y3  观察Z3  观察O3\n",
       "3  观察X4  观察Y4  观察Z4  观察O4"
      ]
     },
     "metadata": {},
     "output_type": "display_data"
    }
   ],
   "source": [
    "from IPython.display import display, HTML\n",
    "display (框框)"
   ]
  },
  {
   "cell_type": "code",
   "execution_count": null,
   "metadata": {},
   "outputs": [],
   "source": []
  },
  {
   "cell_type": "markdown",
   "metadata": {},
   "source": [
    "**框框框**(DataFrame)的取变数成 **系列** (Series)"
   ]
  },
  {
   "cell_type": "code",
   "execution_count": 22,
   "metadata": {},
   "outputs": [
    {
     "data": {
      "text/plain": [
       "0    观察X1\n",
       "1    观察X2\n",
       "2    观察X3\n",
       "3    观察X4\n",
       "Name: 变数X, dtype: object"
      ]
     },
     "execution_count": 22,
     "metadata": {},
     "output_type": "execute_result"
    }
   ],
   "source": [
    "框框 [\"变数X\"]  # [] 像字典取值, 改值从列表升级为有**索引的序列**"
   ]
  },
  {
   "cell_type": "code",
   "execution_count": 13,
   "metadata": {},
   "outputs": [
    {
     "data": {
      "text/plain": [
       "array(['观察X1', '观察X2', '观察X3', '观察X4'], dtype=object)"
      ]
     },
     "execution_count": 13,
     "metadata": {},
     "output_type": "execute_result"
    }
   ],
   "source": [
    "# 只取值\n",
    "框框 [\"变数X\"].values"
   ]
  },
  {
   "cell_type": "code",
   "execution_count": 14,
   "metadata": {},
   "outputs": [
    {
     "data": {
      "text/plain": [
       "RangeIndex(start=0, stop=4, step=1)"
      ]
     },
     "execution_count": 14,
     "metadata": {},
     "output_type": "execute_result"
    }
   ],
   "source": [
    "# 只取索引\n",
    "框框 [\"变数X\"].index"
   ]
  },
  {
   "cell_type": "code",
   "execution_count": 17,
   "metadata": {},
   "outputs": [
    {
     "data": {
      "text/plain": [
       "[0, 1, 2, 3]"
      ]
     },
     "execution_count": 17,
     "metadata": {},
     "output_type": "execute_result"
    }
   ],
   "source": [
    "# 看不懂怎么办 list框起来\n",
    "list(框框 [\"变数O\"].index)"
   ]
  },
  {
   "cell_type": "code",
   "execution_count": 29,
   "metadata": {},
   "outputs": [],
   "source": [
    "# 还是看不懂怎么办\n",
    "# Series就是索引/序列，就是这里说的“框框”。说法不同，有被坑到，谢谢：）"
   ]
  },
  {
   "cell_type": "code",
   "execution_count": 37,
   "metadata": {},
   "outputs": [
    {
     "data": {
      "text/plain": [
       "变数X    观察X3\n",
       "变数Y    观察Y3\n",
       "变数Z    观察Z3\n",
       "变数O    观察O3\n",
       "Name: 2, dtype: object"
      ]
     },
     "execution_count": 37,
     "metadata": {},
     "output_type": "execute_result"
    }
   ],
   "source": [
    "# 取观察\n",
    "# 用 .loc[] 取列, 相当於所有变数的某一次观察\n",
    "# 为什么取第二列得第三列？因为第一列的序号是0\n",
    "# 真尼玛坑，把变数放到左边了，实际上取得就是第三行的数据\n",
    "框框.loc[2]   # loc = location  row"
   ]
  },
  {
   "cell_type": "code",
   "execution_count": 33,
   "metadata": {},
   "outputs": [],
   "source": [
    "# 错误尝试，取不出行的\n",
    "# 框框.loc(变数X)\n",
    "# ---------------------------------------------------------------------------\n",
    "# NameError                                 Traceback (most recent call last)\n",
    "# <ipython-input-32-e31e329a9430> in <module>\n",
    "# ----> 1 框框.loc(变数X)\n",
    "\n",
    "# NameError: name '变数X' is not defined\n"
   ]
  },
  {
   "cell_type": "code",
   "execution_count": 31,
   "metadata": {},
   "outputs": [
    {
     "data": {
      "text/plain": [
       "['观察X3', '观察Y3', '观察Z3', '观察O3']"
      ]
     },
     "execution_count": 31,
     "metadata": {},
     "output_type": "execute_result"
    }
   ],
   "source": [
    "# 又看不懂了，不慌，list一下\n",
    "list(框框.loc[2])"
   ]
  },
  {
   "cell_type": "code",
   "execution_count": 28,
   "metadata": {},
   "outputs": [
    {
     "name": "stdout",
     "output_type": "stream",
     "text": [
      "['观察X1', '观察X2', '观察X3', '观察X4']\n",
      "['观察X1', '观察X2', '观察X3', '观察X4']\n",
      "['观察X1', '观察X2', '观察X3', '观察X4']\n",
      "[0, 1, 2, 3]\n"
     ]
    }
   ],
   "source": [
    "# 这些方法，都可以达到取出变数的效果，我偏爱无脑list(xx[\"变数\"])\n",
    "print ( 框框 [\"变数X\"].to_list() )    \n",
    "print ( list(框框 [\"变数X\"]) )\n",
    "print ( list(框框 [\"变数X\"].values) )\n",
    "print ( list(框框 [\"变数X\"].index) )\n",
    "\n",
    "# 区分读/写代码: 你可以挑一个你比较常用的\"说法\", 但你看到别人不同的说法时, 你需要知道是同一件事\n",
    "# 廖老师牛逼！"
   ]
  },
  {
   "cell_type": "code",
   "execution_count": 40,
   "metadata": {},
   "outputs": [],
   "source": [
    "# **失败案例**，后面没说明白取这个小小的变数O（index索引）还是具体的值（values值）。\n",
    "# 框框.[\"变数O\"]\n",
    "# File \"<ipython-input-36-000b83d468e1>\", line 1\n",
    "    # 框框.[\"变数O\"]       ^\n",
    "# SyntaxError: invalid syntax"
   ]
  },
  {
   "cell_type": "markdown",
   "metadata": {},
   "source": [
    "![01_table_dataframe.svg](https://pandas.pydata.org/pandas-docs/version/1.0.2/_images/01_table_dataframe.svg)\n",
    "### 框框框的小结\n",
    "* 数据表格的习惯是变数variables与观察observations\n",
    "* 数据表格要等长，不然会报错。\n",
    "* pandas框框框构建，就是把变数和观察包在索引/系列里面。\n",
    "* 框框框字典（pd.DataFrame），“框框 [\"变数X\"]”这种已经变成序列的取得就是变数X的所有观察。（横着的是列row，里面是变数；竖着的是行column，里面是观察。）\n",
    "  * .loc[] 取  变数, 列 row\n",
    "  * [\"\"] 取  观察, 行 column\n",
    "    * 框框.loc[2]取得就是第三列\t观察X3\t观察Y3\t观察Z3\t观察O3\n",
    "    * 框框.[\"变数O\"].index取得就是这一整个序列，框框.[\"变数O\"].values取得就是变数O里面具体的一个一个值。  \n",
    "    记得格式是先把字典搞好，然后再字典名.loc[]/[\"\"]取想要的东西，简单来说取横着的就loc，竖着的直接[]"
   ]
  },
  {
   "cell_type": "code",
   "execution_count": null,
   "metadata": {},
   "outputs": [],
   "source": []
  },
  {
   "cell_type": "code",
   "execution_count": null,
   "metadata": {
    "collapsed": true
   },
   "outputs": [],
   "source": []
  },
  {
   "cell_type": "code",
   "execution_count": null,
   "metadata": {},
   "outputs": [],
   "source": []
  }
 ],
 "metadata": {
  "kernelspec": {
   "display_name": "Python 3",
   "language": "python",
   "name": "python3"
  },
  "language_info": {
   "codemirror_mode": {
    "name": "ipython",
    "version": 3
   },
   "file_extension": ".py",
   "mimetype": "text/x-python",
   "name": "python",
   "nbconvert_exporter": "python",
   "pygments_lexer": "ipython3",
   "version": "3.7.3"
  },
  "toc": {
   "base_numbering": 1,
   "nav_menu": {},
   "number_sections": true,
   "sideBar": true,
   "skip_h1_title": false,
   "title_cell": "Table of Contents",
   "title_sidebar": "Contents",
   "toc_cell": false,
   "toc_position": {},
   "toc_section_display": true,
   "toc_window_display": true
  }
 },
 "nbformat": 4,
 "nbformat_minor": 4
}
